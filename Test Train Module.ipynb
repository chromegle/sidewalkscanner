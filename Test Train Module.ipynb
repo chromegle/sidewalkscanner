{
 "cells": [
  {
   "cell_type": "code",
   "execution_count": 1,
   "metadata": {},
   "outputs": [],
   "source": [
    "import os"
   ]
  },
  {
   "cell_type": "code",
   "execution_count": 2,
   "metadata": {},
   "outputs": [
    {
     "name": "stdout",
     "output_type": "stream",
     "text": [
      "[name: \"/device:CPU:0\"\n",
      "device_type: \"CPU\"\n",
      "memory_limit: 268435456\n",
      "locality {\n",
      "}\n",
      "incarnation: 15531606848500364045\n",
      ", name: \"/device:GPU:0\"\n",
      "device_type: \"GPU\"\n",
      "memory_limit: 4951913267\n",
      "locality {\n",
      "  bus_id: 1\n",
      "  links {\n",
      "  }\n",
      "}\n",
      "incarnation: 6893631862886924305\n",
      "physical_device_desc: \"device: 0, name: GeForce GTX 1060 6GB, pci bus id: 0000:02:00.0, compute capability: 6.1\"\n",
      "]\n"
     ]
    }
   ],
   "source": [
    "from tensorflow.python.client import device_lib\n",
    "print(device_lib.list_local_devices())"
   ]
  },
  {
   "cell_type": "code",
   "execution_count": 3,
   "metadata": {},
   "outputs": [
    {
     "name": "stderr",
     "output_type": "stream",
     "text": [
      "Using TensorFlow backend.\n"
     ]
    },
    {
     "data": {
      "text/plain": [
       "['/job:localhost/replica:0/task:0/device:GPU:0']"
      ]
     },
     "execution_count": 3,
     "metadata": {},
     "output_type": "execute_result"
    }
   ],
   "source": [
    "from keras import backend as K\n",
    "K.tensorflow_backend._get_available_gpus()"
   ]
  },
  {
   "cell_type": "code",
   "execution_count": 4,
   "metadata": {},
   "outputs": [],
   "source": [
    "import train, plotting, config"
   ]
  },
  {
   "cell_type": "markdown",
   "metadata": {},
   "source": [
    "#### 0. Description for Data Output"
   ]
  },
  {
   "cell_type": "code",
   "execution_count": 5,
   "metadata": {},
   "outputs": [],
   "source": [
    "model_description = 'InceptionV3_frozen_SDNET2018_20190320A'"
   ]
  },
  {
   "cell_type": "markdown",
   "metadata": {},
   "source": [
    "#### 1-3. Build Model, Image Data Generators and Fit  \n",
    "(option for just running steps 1-3 below)"
   ]
  },
  {
   "cell_type": "raw",
   "metadata": {
    "scrolled": false
   },
   "source": [
    "# function is the same steps as cell below\n",
    "history = train.build_run(model_description, verbose=True)"
   ]
  },
  {
   "cell_type": "markdown",
   "metadata": {},
   "source": [
    "#### 1. Build Model"
   ]
  },
  {
   "cell_type": "code",
   "execution_count": 31,
   "metadata": {},
   "outputs": [],
   "source": [
    "from keras import Model, applications, optimizers\n",
    "from importlib import reload"
   ]
  },
  {
   "cell_type": "raw",
   "metadata": {},
   "source": [
    "reload(train)\n",
    "model = train.build_model_inceptionV3(verbose=True)"
   ]
  },
  {
   "cell_type": "code",
   "execution_count": 38,
   "metadata": {
    "scrolled": false
   },
   "outputs": [
    {
     "ename": "NameError",
     "evalue": "name 'Sequential' is not defined",
     "output_type": "error",
     "traceback": [
      "\u001b[1;31m---------------------------------------------------------------------------\u001b[0m",
      "\u001b[1;31mNameError\u001b[0m                                 Traceback (most recent call last)",
      "\u001b[1;32m<ipython-input-38-7bd5ce82f145>\u001b[0m in \u001b[0;36m<module>\u001b[1;34m\u001b[0m\n\u001b[0;32m     15\u001b[0m     \u001b[0mlayer\u001b[0m\u001b[1;33m.\u001b[0m\u001b[0mtrainable\u001b[0m \u001b[1;33m=\u001b[0m \u001b[1;32mFalse\u001b[0m\u001b[1;33m\u001b[0m\u001b[1;33m\u001b[0m\u001b[0m\n\u001b[0;32m     16\u001b[0m \u001b[1;33m\u001b[0m\u001b[0m\n\u001b[1;32m---> 17\u001b[1;33m \u001b[0mtop_model\u001b[0m \u001b[1;33m=\u001b[0m \u001b[0mSequential\u001b[0m\u001b[1;33m(\u001b[0m\u001b[1;33m)\u001b[0m\u001b[1;33m\u001b[0m\u001b[1;33m\u001b[0m\u001b[0m\n\u001b[0m\u001b[0;32m     18\u001b[0m \u001b[0mtop_model\u001b[0m\u001b[1;33m.\u001b[0m\u001b[0madd\u001b[0m\u001b[1;33m(\u001b[0m\u001b[0mFlatten\u001b[0m\u001b[1;33m(\u001b[0m\u001b[0minput_shape\u001b[0m\u001b[1;33m=\u001b[0m\u001b[0mbase_model\u001b[0m\u001b[1;33m.\u001b[0m\u001b[0moutput_shape\u001b[0m\u001b[1;33m[\u001b[0m\u001b[1;36m1\u001b[0m\u001b[1;33m:\u001b[0m\u001b[1;33m]\u001b[0m\u001b[1;33m)\u001b[0m\u001b[1;33m)\u001b[0m\u001b[1;33m\u001b[0m\u001b[1;33m\u001b[0m\u001b[0m\n\u001b[0;32m     19\u001b[0m \u001b[0mtop_model\u001b[0m\u001b[1;33m.\u001b[0m\u001b[0madd\u001b[0m\u001b[1;33m(\u001b[0m\u001b[0mDense\u001b[0m\u001b[1;33m(\u001b[0m\u001b[1;36m256\u001b[0m\u001b[1;33m,\u001b[0m \u001b[0mactivation\u001b[0m\u001b[1;33m=\u001b[0m\u001b[1;34m'relu'\u001b[0m\u001b[1;33m)\u001b[0m\u001b[1;33m)\u001b[0m\u001b[1;33m\u001b[0m\u001b[1;33m\u001b[0m\u001b[0m\n",
      "\u001b[1;31mNameError\u001b[0m: name 'Sequential' is not defined"
     ]
    }
   ],
   "source": [
    "img_width, img_height = 224, 224\n",
    "input_shape = (img_width, img_height, 3)\n",
    "base_model = applications.inception_v3.InceptionV3(weights='imagenet',\n",
    "                                                   include_top=False,\n",
    "                                                   input_shape=input_shape)\n",
    "\n",
    "# Freeze the layers which you don't want to train. Here I am freezing the first 5 layers.\n",
    "# for layer in model.layers[:5]:\n",
    "# https://medium.com/@14prakash/transfer-learning-using-keras-d804b2e04ef8\n",
    "\n",
    "#n_layers = len(base_model.layers)\n",
    "#if config.frozen_layers != 'all':\n",
    "#    n_layers = config.frozen_layers\n",
    "for layer in base_model.layers[:-10]:\n",
    "    layer.trainable = False\n",
    "\n",
    "top_model = Sequential()\n",
    "top_model.add(Flatten(input_shape=base_model.output_shape[1:]))\n",
    "top_model.add(Dense(256, activation='relu'))\n",
    "top_model.add(Dense(1, activation='sigmoid'))\n",
    "\n",
    "model = Model(inputs=base_model.input, outputs=top_model(base_model.output))\n",
    "base_model.compile(loss='binary_crossentropy',\n",
    "              optimizer=optimizers.SGD(lr=1, momentum=1),\n",
    "              metrics=['accuracy'])\n",
    "\n",
    "print('Trainable Layer Summary')\n",
    "print('=======================')\n",
    "for layer in base_model.layers:\n",
    "    conf = layer.get_config()\n",
    "    print(conf['name'], '\\t : ', layer.trainable)"
   ]
  },
  {
   "cell_type": "code",
   "execution_count": null,
   "metadata": {},
   "outputs": [],
   "source": [
    "#model = train.build_model(verbose=True)\n",
    "model = train.build_model_inceptionV3(verbose=True)"
   ]
  },
  {
   "cell_type": "raw",
   "metadata": {},
   "source": [
    "_ = [print(l) for l in model.layers]"
   ]
  },
  {
   "cell_type": "markdown",
   "metadata": {},
   "source": [
    "#### 2. Create Image Data Generators"
   ]
  },
  {
   "cell_type": "code",
   "execution_count": 8,
   "metadata": {},
   "outputs": [
    {
     "name": "stdout",
     "output_type": "stream",
     "text": [
      "Found 3400 images belonging to 2 classes.\n",
      "Found 1200 images belonging to 2 classes.\n",
      "Found 400 images belonging to 2 classes.\n"
     ]
    }
   ],
   "source": [
    "train_gen, validation_gen, test_gen = train.build_generators()"
   ]
  },
  {
   "cell_type": "markdown",
   "metadata": {},
   "source": [
    "#### 3. Fit Model"
   ]
  },
  {
   "cell_type": "code",
   "execution_count": 9,
   "metadata": {
    "scrolled": true
   },
   "outputs": [
    {
     "name": "stdout",
     "output_type": "stream",
     "text": [
      "Epoch 1/100\n",
      "106/106 [==============================] - 27s 259ms/step - loss: 0.7118 - acc: 0.5419 - val_loss: 0.7748 - val_acc: 0.4147\n",
      "\n",
      "Epoch 00001: acc improved from -inf to 0.54186, saving model to C:\\Users\\colin\\Google_Drive\\ilocal\\data\\model_outputs\\InceptionV3_frozen_SDNET2018_20190320A\\InceptionV3_frozen_SDNET2018_20190320A_weights_improvement_01-0.41.hdf5\n",
      "Epoch 2/100\n",
      "106/106 [==============================] - 19s 181ms/step - loss: 0.6442 - acc: 0.6197 - val_loss: 0.7377 - val_acc: 0.4709\n",
      "\n",
      "Epoch 00002: acc improved from 0.54186 to 0.62144, saving model to C:\\Users\\colin\\Google_Drive\\ilocal\\data\\model_outputs\\InceptionV3_frozen_SDNET2018_20190320A\\InceptionV3_frozen_SDNET2018_20190320A_weights_improvement_02-0.47.hdf5\n",
      "Epoch 3/100\n",
      "106/106 [==============================] - 18s 173ms/step - loss: 0.6054 - acc: 0.6816 - val_loss: 0.7061 - val_acc: 0.5171\n",
      "\n",
      "Epoch 00003: acc improved from 0.62144 to 0.68379, saving model to C:\\Users\\colin\\Google_Drive\\ilocal\\data\\model_outputs\\InceptionV3_frozen_SDNET2018_20190320A\\InceptionV3_frozen_SDNET2018_20190320A_weights_improvement_03-0.52.hdf5\n",
      "Epoch 4/100\n",
      "106/106 [==============================] - 18s 171ms/step - loss: 0.5734 - acc: 0.7049 - val_loss: 0.6799 - val_acc: 0.5676\n",
      "\n",
      "Epoch 00004: acc improved from 0.68379 to 0.70546, saving model to C:\\Users\\colin\\Google_Drive\\ilocal\\data\\model_outputs\\InceptionV3_frozen_SDNET2018_20190320A\\InceptionV3_frozen_SDNET2018_20190320A_weights_improvement_04-0.57.hdf5\n",
      "Epoch 5/100\n",
      "106/106 [==============================] - 18s 172ms/step - loss: 0.5590 - acc: 0.7205 - val_loss: 0.6588 - val_acc: 0.5890\n",
      "\n",
      "Epoch 00005: acc improved from 0.70546 to 0.72298, saving model to C:\\Users\\colin\\Google_Drive\\ilocal\\data\\model_outputs\\InceptionV3_frozen_SDNET2018_20190320A\\InceptionV3_frozen_SDNET2018_20190320A_weights_improvement_05-0.59.hdf5\n",
      "Epoch 6/100\n",
      "106/106 [==============================] - 18s 174ms/step - loss: 0.5366 - acc: 0.7408 - val_loss: 0.6473 - val_acc: 0.6070\n",
      "\n",
      "Epoch 00006: acc improved from 0.72298 to 0.73901, saving model to C:\\Users\\colin\\Google_Drive\\ilocal\\data\\model_outputs\\InceptionV3_frozen_SDNET2018_20190320A\\InceptionV3_frozen_SDNET2018_20190320A_weights_improvement_06-0.61.hdf5\n",
      "Epoch 7/100\n",
      "106/106 [==============================] - 18s 172ms/step - loss: 0.5198 - acc: 0.7462 - val_loss: 0.6236 - val_acc: 0.6276\n",
      "\n",
      "Epoch 00007: acc improved from 0.73901 to 0.74792, saving model to C:\\Users\\colin\\Google_Drive\\ilocal\\data\\model_outputs\\InceptionV3_frozen_SDNET2018_20190320A\\InceptionV3_frozen_SDNET2018_20190320A_weights_improvement_07-0.63.hdf5\n",
      "Epoch 8/100\n",
      "106/106 [==============================] - 18s 172ms/step - loss: 0.5117 - acc: 0.7621 - val_loss: 0.6146 - val_acc: 0.6301\n",
      "\n",
      "Epoch 00008: acc improved from 0.74792 to 0.76128, saving model to C:\\Users\\colin\\Google_Drive\\ilocal\\data\\model_outputs\\InceptionV3_frozen_SDNET2018_20190320A\\InceptionV3_frozen_SDNET2018_20190320A_weights_improvement_08-0.63.hdf5\n",
      "Epoch 9/100\n",
      "106/106 [==============================] - 18s 173ms/step - loss: 0.4982 - acc: 0.7704 - val_loss: 0.5974 - val_acc: 0.6584\n",
      "\n",
      "Epoch 00009: acc improved from 0.76128 to 0.77138, saving model to C:\\Users\\colin\\Google_Drive\\ilocal\\data\\model_outputs\\InceptionV3_frozen_SDNET2018_20190320A\\InceptionV3_frozen_SDNET2018_20190320A_weights_improvement_09-0.66.hdf5\n",
      "Epoch 10/100\n",
      "106/106 [==============================] - 18s 172ms/step - loss: 0.4914 - acc: 0.7824 - val_loss: 0.5909 - val_acc: 0.6678\n",
      "\n",
      "Epoch 00010: acc improved from 0.77138 to 0.78355, saving model to C:\\Users\\colin\\Google_Drive\\ilocal\\data\\model_outputs\\InceptionV3_frozen_SDNET2018_20190320A\\InceptionV3_frozen_SDNET2018_20190320A_weights_improvement_10-0.67.hdf5\n",
      "Epoch 11/100\n",
      "106/106 [==============================] - 18s 173ms/step - loss: 0.4790 - acc: 0.7810 - val_loss: 0.5754 - val_acc: 0.6841\n",
      "\n",
      "Epoch 00011: acc did not improve from 0.78355\n",
      "Epoch 12/100\n",
      "106/106 [==============================] - 18s 174ms/step - loss: 0.4683 - acc: 0.7910 - val_loss: 0.5719 - val_acc: 0.6824\n",
      "\n",
      "Epoch 00012: acc improved from 0.78355 to 0.79216, saving model to C:\\Users\\colin\\Google_Drive\\ilocal\\data\\model_outputs\\InceptionV3_frozen_SDNET2018_20190320A\\InceptionV3_frozen_SDNET2018_20190320A_weights_improvement_12-0.68.hdf5\n",
      "Epoch 13/100\n",
      "106/106 [==============================] - 18s 172ms/step - loss: 0.4652 - acc: 0.7883 - val_loss: 0.5686 - val_acc: 0.6832\n",
      "\n",
      "Epoch 00013: acc did not improve from 0.79216\n",
      "Epoch 14/100\n",
      "106/106 [==============================] - 19s 175ms/step - loss: 0.4604 - acc: 0.7948 - val_loss: 0.5583 - val_acc: 0.6935\n",
      "\n",
      "Epoch 00014: acc improved from 0.79216 to 0.79513, saving model to C:\\Users\\colin\\Google_Drive\\ilocal\\data\\model_outputs\\InceptionV3_frozen_SDNET2018_20190320A\\InceptionV3_frozen_SDNET2018_20190320A_weights_improvement_14-0.69.hdf5\n",
      "Epoch 15/100\n",
      "106/106 [==============================] - 18s 172ms/step - loss: 0.4553 - acc: 0.7889 - val_loss: 0.5731 - val_acc: 0.6815\n",
      "\n",
      "Epoch 00015: acc did not improve from 0.79513\n",
      "Epoch 16/100\n",
      "106/106 [==============================] - 18s 173ms/step - loss: 0.4420 - acc: 0.8072 - val_loss: 0.5454 - val_acc: 0.7115\n",
      "\n",
      "Epoch 00016: acc improved from 0.79513 to 0.80582, saving model to C:\\Users\\colin\\Google_Drive\\ilocal\\data\\model_outputs\\InceptionV3_frozen_SDNET2018_20190320A\\InceptionV3_frozen_SDNET2018_20190320A_weights_improvement_16-0.71.hdf5\n",
      "Epoch 17/100\n",
      "106/106 [==============================] - 18s 173ms/step - loss: 0.4417 - acc: 0.8031 - val_loss: 0.5351 - val_acc: 0.7183\n",
      "\n",
      "Epoch 00017: acc did not improve from 0.80582\n",
      "Epoch 18/100\n",
      "106/106 [==============================] - 18s 172ms/step - loss: 0.4318 - acc: 0.8022 - val_loss: 0.5455 - val_acc: 0.7132\n",
      "\n",
      "Epoch 00018: acc did not improve from 0.80582\n",
      "Epoch 19/100\n",
      "106/106 [==============================] - 18s 172ms/step - loss: 0.4312 - acc: 0.8143 - val_loss: 0.5395 - val_acc: 0.7149\n",
      "\n",
      "Epoch 00019: acc improved from 0.80582 to 0.81384, saving model to C:\\Users\\colin\\Google_Drive\\ilocal\\data\\model_outputs\\InceptionV3_frozen_SDNET2018_20190320A\\InceptionV3_frozen_SDNET2018_20190320A_weights_improvement_19-0.71.hdf5\n",
      "Epoch 20/100\n",
      "106/106 [==============================] - 18s 174ms/step - loss: 0.4254 - acc: 0.8143 - val_loss: 0.5370 - val_acc: 0.7200\n",
      "\n",
      "Epoch 00020: acc improved from 0.81384 to 0.81473, saving model to C:\\Users\\colin\\Google_Drive\\ilocal\\data\\model_outputs\\InceptionV3_frozen_SDNET2018_20190320A\\InceptionV3_frozen_SDNET2018_20190320A_weights_improvement_20-0.72.hdf5\n",
      "Epoch 21/100\n",
      "106/106 [==============================] - 18s 172ms/step - loss: 0.4366 - acc: 0.8040 - val_loss: 0.5650 - val_acc: 0.6918\n",
      "\n",
      "Epoch 00021: acc did not improve from 0.81473\n",
      "Epoch 22/100\n",
      "106/106 [==============================] - 18s 173ms/step - loss: 0.4287 - acc: 0.8066 - val_loss: 0.5463 - val_acc: 0.7132\n",
      "\n",
      "Epoch 00022: acc did not improve from 0.81473\n",
      "Epoch 23/100\n",
      "106/106 [==============================] - 18s 172ms/step - loss: 0.4224 - acc: 0.8143 - val_loss: 0.5316 - val_acc: 0.7269\n",
      "\n",
      "Epoch 00023: acc improved from 0.81473 to 0.81562, saving model to C:\\Users\\colin\\Google_Drive\\ilocal\\data\\model_outputs\\InceptionV3_frozen_SDNET2018_20190320A\\InceptionV3_frozen_SDNET2018_20190320A_weights_improvement_23-0.73.hdf5\n",
      "Epoch 24/100\n",
      "106/106 [==============================] - 18s 173ms/step - loss: 0.4160 - acc: 0.8157 - val_loss: 0.5275 - val_acc: 0.7329\n",
      "\n",
      "Epoch 00024: acc did not improve from 0.81562\n",
      "Epoch 25/100\n",
      "106/106 [==============================] - 18s 171ms/step - loss: 0.4172 - acc: 0.8155 - val_loss: 0.5232 - val_acc: 0.7337\n",
      "\n",
      "Epoch 00025: acc improved from 0.81562 to 0.81591, saving model to C:\\Users\\colin\\Google_Drive\\ilocal\\data\\model_outputs\\InceptionV3_frozen_SDNET2018_20190320A\\InceptionV3_frozen_SDNET2018_20190320A_weights_improvement_25-0.73.hdf5\n",
      "Epoch 26/100\n",
      "106/106 [==============================] - 18s 173ms/step - loss: 0.4214 - acc: 0.8107 - val_loss: 0.5434 - val_acc: 0.7183\n",
      "\n",
      "Epoch 00026: acc did not improve from 0.81591\n",
      "Epoch 27/100\n",
      "106/106 [==============================] - 18s 174ms/step - loss: 0.4000 - acc: 0.8296 - val_loss: 0.5359 - val_acc: 0.7235\n",
      "\n",
      "Epoch 00027: acc improved from 0.81591 to 0.83017, saving model to C:\\Users\\colin\\Google_Drive\\ilocal\\data\\model_outputs\\InceptionV3_frozen_SDNET2018_20190320A\\InceptionV3_frozen_SDNET2018_20190320A_weights_improvement_27-0.72.hdf5\n"
     ]
    },
    {
     "name": "stdout",
     "output_type": "stream",
     "text": [
      "Epoch 28/100\n",
      "106/106 [==============================] - 18s 173ms/step - loss: 0.4061 - acc: 0.8234 - val_loss: 0.5202 - val_acc: 0.7363\n",
      "\n",
      "Epoch 00028: acc did not improve from 0.83017\n",
      "Epoch 29/100\n",
      "106/106 [==============================] - 18s 172ms/step - loss: 0.4190 - acc: 0.8181 - val_loss: 0.5301 - val_acc: 0.7295\n",
      "\n",
      "Epoch 00029: acc did not improve from 0.83017\n",
      "Epoch 30/100\n",
      "106/106 [==============================] - 19s 176ms/step - loss: 0.4025 - acc: 0.8349 - val_loss: 0.5588 - val_acc: 0.7046\n",
      "\n",
      "Epoch 00030: acc improved from 0.83017 to 0.83462, saving model to C:\\Users\\colin\\Google_Drive\\ilocal\\data\\model_outputs\\InceptionV3_frozen_SDNET2018_20190320A\\InceptionV3_frozen_SDNET2018_20190320A_weights_improvement_30-0.70.hdf5\n",
      "Epoch 31/100\n",
      "106/106 [==============================] - 18s 172ms/step - loss: 0.4015 - acc: 0.8272 - val_loss: 0.5340 - val_acc: 0.7260\n",
      "\n",
      "Epoch 00031: acc did not improve from 0.83462\n",
      "Epoch 32/100\n",
      "106/106 [==============================] - 18s 172ms/step - loss: 0.4029 - acc: 0.8210 - val_loss: 0.5129 - val_acc: 0.7363\n",
      "\n",
      "Epoch 00032: acc did not improve from 0.83462\n",
      "Epoch 33/100\n",
      "106/106 [==============================] - 18s 172ms/step - loss: 0.3915 - acc: 0.8379 - val_loss: 0.5455 - val_acc: 0.7140\n",
      "\n",
      "Epoch 00033: acc improved from 0.83462 to 0.83759, saving model to C:\\Users\\colin\\Google_Drive\\ilocal\\data\\model_outputs\\InceptionV3_frozen_SDNET2018_20190320A\\InceptionV3_frozen_SDNET2018_20190320A_weights_improvement_33-0.71.hdf5\n",
      "Epoch 34/100\n",
      "106/106 [==============================] - 18s 171ms/step - loss: 0.3825 - acc: 0.8320 - val_loss: 0.5341 - val_acc: 0.7269\n",
      "\n",
      "Epoch 00034: acc did not improve from 0.83759\n",
      "Epoch 35/100\n",
      "106/106 [==============================] - 18s 174ms/step - loss: 0.3837 - acc: 0.8458 - val_loss: 0.5467 - val_acc: 0.7183\n",
      "\n",
      "Epoch 00035: acc improved from 0.83759 to 0.84561, saving model to C:\\Users\\colin\\Google_Drive\\ilocal\\data\\model_outputs\\InceptionV3_frozen_SDNET2018_20190320A\\InceptionV3_frozen_SDNET2018_20190320A_weights_improvement_35-0.72.hdf5\n",
      "Epoch 36/100\n",
      "106/106 [==============================] - 18s 173ms/step - loss: 0.3875 - acc: 0.8349 - val_loss: 0.5663 - val_acc: 0.7038\n",
      "\n",
      "Epoch 00036: acc did not improve from 0.84561\n",
      "Epoch 37/100\n",
      "106/106 [==============================] - 18s 172ms/step - loss: 0.3983 - acc: 0.8290 - val_loss: 0.4981 - val_acc: 0.7440\n",
      "\n",
      "Epoch 00037: acc did not improve from 0.84561\n",
      "Epoch 38/100\n",
      "106/106 [==============================] - 18s 172ms/step - loss: 0.3851 - acc: 0.8311 - val_loss: 0.5494 - val_acc: 0.7132\n",
      "\n",
      "Epoch 00038: acc did not improve from 0.84561\n",
      "Epoch 39/100\n",
      "106/106 [==============================] - 18s 172ms/step - loss: 0.3982 - acc: 0.8281 - val_loss: 0.5323 - val_acc: 0.7213\n",
      "\n",
      "Epoch 00039: acc did not improve from 0.84561\n",
      "Epoch 40/100\n",
      "106/106 [==============================] - 18s 171ms/step - loss: 0.3921 - acc: 0.8322 - val_loss: 0.5056 - val_acc: 0.7397\n",
      "\n",
      "Epoch 00040: acc did not improve from 0.84561\n",
      "Epoch 41/100\n",
      "106/106 [==============================] - 18s 171ms/step - loss: 0.3873 - acc: 0.8361 - val_loss: 0.4964 - val_acc: 0.7543\n",
      "\n",
      "Epoch 00041: acc did not improve from 0.84561\n",
      "Epoch 42/100\n",
      "106/106 [==============================] - 18s 172ms/step - loss: 0.3801 - acc: 0.8388 - val_loss: 0.5230 - val_acc: 0.7295\n",
      "\n",
      "Epoch 00042: acc did not improve from 0.84561\n",
      "Epoch 43/100\n",
      "106/106 [==============================] - 18s 173ms/step - loss: 0.3898 - acc: 0.8314 - val_loss: 0.4960 - val_acc: 0.7509\n",
      "\n",
      "Epoch 00043: acc did not improve from 0.84561\n",
      "Epoch 44/100\n",
      "106/106 [==============================] - 18s 171ms/step - loss: 0.3730 - acc: 0.8429 - val_loss: 0.5173 - val_acc: 0.7406\n",
      "\n",
      "Epoch 00044: acc did not improve from 0.84561\n",
      "Epoch 45/100\n",
      "106/106 [==============================] - 18s 170ms/step - loss: 0.3915 - acc: 0.8293 - val_loss: 0.4889 - val_acc: 0.7526\n",
      "\n",
      "Epoch 00045: acc did not improve from 0.84561\n",
      "Epoch 46/100\n",
      "106/106 [==============================] - 18s 173ms/step - loss: 0.3954 - acc: 0.8328 - val_loss: 0.5708 - val_acc: 0.6978\n",
      "\n",
      "Epoch 00046: acc did not improve from 0.84561\n",
      "Epoch 47/100\n",
      "106/106 [==============================] - 18s 173ms/step - loss: 0.3799 - acc: 0.8379 - val_loss: 0.4864 - val_acc: 0.7517\n",
      "\n",
      "Epoch 00047: acc did not improve from 0.84561\n",
      "Epoch 48/100\n",
      "106/106 [==============================] - 18s 171ms/step - loss: 0.3841 - acc: 0.8361 - val_loss: 0.5307 - val_acc: 0.7337\n",
      "\n",
      "Epoch 00048: acc did not improve from 0.84561\n",
      "Epoch 49/100\n",
      "106/106 [==============================] - 18s 172ms/step - loss: 0.3754 - acc: 0.8367 - val_loss: 0.5060 - val_acc: 0.7432\n",
      "\n",
      "Epoch 00049: acc did not improve from 0.84561\n",
      "Epoch 50/100\n",
      "106/106 [==============================] - 18s 174ms/step - loss: 0.3840 - acc: 0.8370 - val_loss: 0.5425 - val_acc: 0.7200\n",
      "\n",
      "Epoch 00050: acc did not improve from 0.84561\n",
      "Epoch 51/100\n",
      "106/106 [==============================] - 18s 172ms/step - loss: 0.3694 - acc: 0.8446 - val_loss: 0.5524 - val_acc: 0.7098\n",
      "\n",
      "Epoch 00051: acc did not improve from 0.84561\n",
      "Epoch 52/100\n",
      "106/106 [==============================] - 18s 172ms/step - loss: 0.3741 - acc: 0.8479 - val_loss: 0.5553 - val_acc: 0.7080\n",
      "\n",
      "Epoch 00052: acc improved from 0.84561 to 0.84857, saving model to C:\\Users\\colin\\Google_Drive\\ilocal\\data\\model_outputs\\InceptionV3_frozen_SDNET2018_20190320A\\InceptionV3_frozen_SDNET2018_20190320A_weights_improvement_52-0.71.hdf5\n",
      "Epoch 53/100\n",
      "106/106 [==============================] - 19s 175ms/step - loss: 0.3895 - acc: 0.8275 - val_loss: 0.5369 - val_acc: 0.7252\n",
      "\n",
      "Epoch 00053: acc did not improve from 0.84857\n",
      "Epoch 54/100\n",
      "106/106 [==============================] - 18s 173ms/step - loss: 0.3743 - acc: 0.8399 - val_loss: 0.5591 - val_acc: 0.7132\n",
      "\n",
      "Epoch 00054: acc did not improve from 0.84857\n",
      "Epoch 55/100\n",
      "106/106 [==============================] - 18s 172ms/step - loss: 0.3800 - acc: 0.8396 - val_loss: 0.5602 - val_acc: 0.7106\n",
      "\n",
      "Epoch 00055: acc did not improve from 0.84857\n",
      "Epoch 56/100\n",
      "106/106 [==============================] - 18s 174ms/step - loss: 0.3885 - acc: 0.8334 - val_loss: 0.5325 - val_acc: 0.7277\n",
      "\n",
      "Epoch 00056: acc did not improve from 0.84857\n",
      "Epoch 57/100\n",
      "106/106 [==============================] - 18s 171ms/step - loss: 0.3593 - acc: 0.8511 - val_loss: 0.5697 - val_acc: 0.7046\n",
      "\n",
      "Epoch 00057: acc improved from 0.84857 to 0.85095, saving model to C:\\Users\\colin\\Google_Drive\\ilocal\\data\\model_outputs\\InceptionV3_frozen_SDNET2018_20190320A\\InceptionV3_frozen_SDNET2018_20190320A_weights_improvement_57-0.70.hdf5\n",
      "Epoch 58/100\n",
      "106/106 [==============================] - 18s 170ms/step - loss: 0.3699 - acc: 0.8476 - val_loss: 0.5674 - val_acc: 0.7115\n",
      "\n",
      "Epoch 00058: acc did not improve from 0.85095\n",
      "Epoch 59/100\n",
      "106/106 [==============================] - 18s 172ms/step - loss: 0.3852 - acc: 0.8308 - val_loss: 0.5301 - val_acc: 0.7269\n",
      "\n",
      "Epoch 00059: acc did not improve from 0.85095\n",
      "Epoch 60/100\n",
      "106/106 [==============================] - 18s 173ms/step - loss: 0.3598 - acc: 0.8488 - val_loss: 0.5611 - val_acc: 0.7132\n",
      "\n",
      "Epoch 00060: acc did not improve from 0.85095\n",
      "Epoch 61/100\n",
      "106/106 [==============================] - 18s 174ms/step - loss: 0.3708 - acc: 0.8440 - val_loss: 0.5483 - val_acc: 0.7200\n",
      "\n",
      "Epoch 00061: acc did not improve from 0.85095\n",
      "Epoch 62/100\n",
      "106/106 [==============================] - 18s 171ms/step - loss: 0.3654 - acc: 0.8529 - val_loss: 0.5605 - val_acc: 0.7132\n",
      "\n",
      "Epoch 00062: acc improved from 0.85095 to 0.85184, saving model to C:\\Users\\colin\\Google_Drive\\ilocal\\data\\model_outputs\\InceptionV3_frozen_SDNET2018_20190320A\\InceptionV3_frozen_SDNET2018_20190320A_weights_improvement_62-0.71.hdf5\n",
      "Epoch 63/100\n",
      "106/106 [==============================] - 18s 170ms/step - loss: 0.3585 - acc: 0.8511 - val_loss: 0.5682 - val_acc: 0.7089\n",
      "\n",
      "Epoch 00063: acc did not improve from 0.85184\n",
      "Epoch 64/100\n",
      "106/106 [==============================] - 18s 171ms/step - loss: 0.3637 - acc: 0.8446 - val_loss: 0.5876 - val_acc: 0.7021\n",
      "\n",
      "Epoch 00064: acc did not improve from 0.85184\n",
      "Epoch 65/100\n",
      "106/106 [==============================] - 18s 171ms/step - loss: 0.3640 - acc: 0.8470 - val_loss: 0.5600 - val_acc: 0.7158\n",
      "\n",
      "Epoch 00065: acc did not improve from 0.85184\n",
      "Epoch 66/100\n"
     ]
    },
    {
     "name": "stdout",
     "output_type": "stream",
     "text": [
      "106/106 [==============================] - 18s 173ms/step - loss: 0.3821 - acc: 0.8390 - val_loss: 0.5912 - val_acc: 0.7003\n",
      "\n",
      "Epoch 00066: acc did not improve from 0.85184\n",
      "Epoch 67/100\n",
      "106/106 [==============================] - 18s 172ms/step - loss: 0.3637 - acc: 0.8455 - val_loss: 0.5512 - val_acc: 0.7183\n",
      "\n",
      "Epoch 00067: acc did not improve from 0.85184\n",
      "Epoch 68/100\n",
      "106/106 [==============================] - 18s 170ms/step - loss: 0.3699 - acc: 0.8370 - val_loss: 0.5209 - val_acc: 0.7372\n",
      "\n",
      "Epoch 00068: acc did not improve from 0.85184\n",
      "Epoch 69/100\n",
      "106/106 [==============================] - 18s 171ms/step - loss: 0.3664 - acc: 0.8408 - val_loss: 0.5485 - val_acc: 0.7226\n",
      "\n",
      "Epoch 00069: acc did not improve from 0.85184\n",
      "Epoch 70/100\n",
      "106/106 [==============================] - 18s 172ms/step - loss: 0.3587 - acc: 0.8443 - val_loss: 0.5042 - val_acc: 0.7432\n",
      "\n",
      "Epoch 00070: acc did not improve from 0.85184\n",
      "Epoch 71/100\n",
      "106/106 [==============================] - 18s 172ms/step - loss: 0.3571 - acc: 0.8470 - val_loss: 0.5099 - val_acc: 0.7449\n",
      "\n",
      "Epoch 00071: acc did not improve from 0.85184\n",
      "Epoch 72/100\n",
      "106/106 [==============================] - 18s 172ms/step - loss: 0.3590 - acc: 0.8497 - val_loss: 0.5560 - val_acc: 0.7158\n",
      "\n",
      "Epoch 00072: acc did not improve from 0.85184\n",
      "Epoch 73/100\n",
      "106/106 [==============================] - 18s 173ms/step - loss: 0.3496 - acc: 0.8476 - val_loss: 0.5434 - val_acc: 0.7260\n",
      "\n",
      "Epoch 00073: acc did not improve from 0.85184\n",
      "Epoch 74/100\n",
      "106/106 [==============================] - 18s 171ms/step - loss: 0.3718 - acc: 0.8443 - val_loss: 0.5207 - val_acc: 0.7406\n",
      "\n",
      "Epoch 00074: acc did not improve from 0.85184\n",
      "Epoch 75/100\n",
      "106/106 [==============================] - 18s 172ms/step - loss: 0.3493 - acc: 0.8520 - val_loss: 0.5398 - val_acc: 0.7252\n",
      "\n",
      "Epoch 00075: acc improved from 0.85184 to 0.85273, saving model to C:\\Users\\colin\\Google_Drive\\ilocal\\data\\model_outputs\\InceptionV3_frozen_SDNET2018_20190320A\\InceptionV3_frozen_SDNET2018_20190320A_weights_improvement_75-0.73.hdf5\n",
      "Epoch 76/100\n",
      "106/106 [==============================] - 18s 172ms/step - loss: 0.3591 - acc: 0.8496 - val_loss: 0.5758 - val_acc: 0.7132\n",
      "\n",
      "Epoch 00076: acc did not improve from 0.85273\n",
      "Epoch 77/100\n",
      "106/106 [==============================] - 18s 171ms/step - loss: 0.3600 - acc: 0.8508 - val_loss: 0.5777 - val_acc: 0.7086\n",
      "\n",
      "Epoch 00077: acc did not improve from 0.85273\n",
      "Epoch 78/100\n",
      "106/106 [==============================] - 18s 172ms/step - loss: 0.3675 - acc: 0.8443 - val_loss: 0.5173 - val_acc: 0.7406\n",
      "\n",
      "Epoch 00078: acc did not improve from 0.85273\n",
      "Epoch 79/100\n",
      "106/106 [==============================] - 18s 172ms/step - loss: 0.3649 - acc: 0.8464 - val_loss: 0.5301 - val_acc: 0.7389\n",
      "\n",
      "Epoch 00079: acc did not improve from 0.85273\n",
      "Epoch 80/100\n",
      "106/106 [==============================] - 18s 170ms/step - loss: 0.3454 - acc: 0.8588 - val_loss: 0.4872 - val_acc: 0.7620\n",
      "\n",
      "Epoch 00080: acc improved from 0.85273 to 0.85778, saving model to C:\\Users\\colin\\Google_Drive\\ilocal\\data\\model_outputs\\InceptionV3_frozen_SDNET2018_20190320A\\InceptionV3_frozen_SDNET2018_20190320A_weights_improvement_80-0.76.hdf5\n",
      "Epoch 81/100\n",
      "106/106 [==============================] - 18s 169ms/step - loss: 0.3639 - acc: 0.8564 - val_loss: 0.5469 - val_acc: 0.7354\n",
      "\n",
      "Epoch 00081: acc did not improve from 0.85778\n",
      "Epoch 82/100\n",
      "106/106 [==============================] - 18s 169ms/step - loss: 0.3504 - acc: 0.8588 - val_loss: 0.5362 - val_acc: 0.7414\n",
      "\n",
      "Epoch 00082: acc improved from 0.85778 to 0.85867, saving model to C:\\Users\\colin\\Google_Drive\\ilocal\\data\\model_outputs\\InceptionV3_frozen_SDNET2018_20190320A\\InceptionV3_frozen_SDNET2018_20190320A_weights_improvement_82-0.74.hdf5\n",
      "Epoch 83/100\n",
      "106/106 [==============================] - 18s 171ms/step - loss: 0.3598 - acc: 0.8443 - val_loss: 0.5012 - val_acc: 0.7526\n",
      "\n",
      "Epoch 00083: acc did not improve from 0.85867\n",
      "Epoch 84/100\n",
      "106/106 [==============================] - 18s 171ms/step - loss: 0.3605 - acc: 0.8431 - val_loss: 0.5716 - val_acc: 0.7217\n",
      "\n",
      "Epoch 00084: acc did not improve from 0.85867\n",
      "Epoch 85/100\n",
      "106/106 [==============================] - 18s 170ms/step - loss: 0.3573 - acc: 0.8538 - val_loss: 0.5755 - val_acc: 0.7200\n",
      "\n",
      "Epoch 00085: acc did not improve from 0.85867\n",
      "Epoch 86/100\n",
      "106/106 [==============================] - 18s 171ms/step - loss: 0.3435 - acc: 0.8614 - val_loss: 0.5427 - val_acc: 0.7380\n",
      "\n",
      "Epoch 00086: acc improved from 0.85867 to 0.86134, saving model to C:\\Users\\colin\\Google_Drive\\ilocal\\data\\model_outputs\\InceptionV3_frozen_SDNET2018_20190320A\\InceptionV3_frozen_SDNET2018_20190320A_weights_improvement_86-0.74.hdf5\n",
      "Epoch 87/100\n",
      "106/106 [==============================] - 18s 169ms/step - loss: 0.3475 - acc: 0.8529 - val_loss: 0.5603 - val_acc: 0.7303\n",
      "\n",
      "Epoch 00087: acc did not improve from 0.86134\n",
      "Epoch 88/100\n",
      "106/106 [==============================] - 18s 170ms/step - loss: 0.3437 - acc: 0.8538 - val_loss: 0.5763 - val_acc: 0.7158\n",
      "\n",
      "Epoch 00088: acc did not improve from 0.86134\n",
      "Epoch 89/100\n",
      "106/106 [==============================] - 18s 172ms/step - loss: 0.3561 - acc: 0.8573 - val_loss: 0.5743 - val_acc: 0.7235\n",
      "\n",
      "Epoch 00089: acc did not improve from 0.86134\n",
      "Epoch 90/100\n",
      "106/106 [==============================] - 18s 169ms/step - loss: 0.3494 - acc: 0.8550 - val_loss: 0.5982 - val_acc: 0.7063\n",
      "\n",
      "Epoch 00090: acc did not improve from 0.86134\n",
      "Epoch 91/100\n",
      "106/106 [==============================] - 18s 170ms/step - loss: 0.3570 - acc: 0.8506 - val_loss: 0.5579 - val_acc: 0.7243\n",
      "\n",
      "Epoch 00091: acc did not improve from 0.86134\n",
      "Epoch 92/100\n",
      "106/106 [==============================] - 18s 169ms/step - loss: 0.3589 - acc: 0.8450 - val_loss: 0.5384 - val_acc: 0.7389\n",
      "\n",
      "Epoch 00092: acc did not improve from 0.86134\n",
      "Epoch 93/100\n",
      "106/106 [==============================] - 18s 171ms/step - loss: 0.3542 - acc: 0.8505 - val_loss: 0.5417 - val_acc: 0.7329\n",
      "\n",
      "Epoch 00093: acc did not improve from 0.86134\n",
      "Epoch 94/100\n",
      "106/106 [==============================] - 18s 170ms/step - loss: 0.3420 - acc: 0.8582 - val_loss: 0.5453 - val_acc: 0.7337\n",
      "\n",
      "Epoch 00094: acc did not improve from 0.86134\n",
      "Epoch 95/100\n",
      "106/106 [==============================] - 18s 169ms/step - loss: 0.3544 - acc: 0.8514 - val_loss: 0.5878 - val_acc: 0.7132\n",
      "\n",
      "Epoch 00095: acc did not improve from 0.86134\n",
      "Epoch 96/100\n",
      "106/106 [==============================] - 18s 171ms/step - loss: 0.3488 - acc: 0.8511 - val_loss: 0.5385 - val_acc: 0.7346\n",
      "\n",
      "Epoch 00096: acc did not improve from 0.86134\n",
      "Epoch 97/100\n",
      "106/106 [==============================] - 18s 169ms/step - loss: 0.3597 - acc: 0.8485 - val_loss: 0.6298 - val_acc: 0.6892\n",
      "\n",
      "Epoch 00097: acc did not improve from 0.86134\n",
      "Epoch 98/100\n",
      "106/106 [==============================] - 18s 169ms/step - loss: 0.3574 - acc: 0.8464 - val_loss: 0.5657 - val_acc: 0.7226\n",
      "\n",
      "Epoch 00098: acc did not improve from 0.86134\n",
      "Epoch 99/100\n",
      "106/106 [==============================] - 18s 168ms/step - loss: 0.3535 - acc: 0.8485 - val_loss: 0.6033 - val_acc: 0.7029\n",
      "\n",
      "Epoch 00099: acc did not improve from 0.86134\n",
      "Epoch 100/100\n",
      "106/106 [==============================] - 18s 170ms/step - loss: 0.3426 - acc: 0.8600 - val_loss: 0.6164 - val_acc: 0.6961\n",
      "\n",
      "Epoch 00100: acc did not improve from 0.86134\n"
     ]
    }
   ],
   "source": [
    "history = train.train_model(model=model,\n",
    "                      train_generator=train_gen,\n",
    "                      validation_generator=validation_gen,\n",
    "                      model_description=model_description)"
   ]
  },
  {
   "cell_type": "code",
   "execution_count": 10,
   "metadata": {},
   "outputs": [
    {
     "data": {
      "text/plain": [
       "'C:\\\\Users\\\\colin\\\\Google_Drive\\\\ilocal\\\\data\\\\model_outputs\\\\InceptionV3_frozen_SDNET2018_20190320A\\\\'"
      ]
     },
     "execution_count": 10,
     "metadata": {},
     "output_type": "execute_result"
    }
   ],
   "source": [
    "training_output_dir = (config.model_dir + os.path.sep + \n",
    "                       model_description + os.path.sep)\n",
    "training_output_dir"
   ]
  },
  {
   "cell_type": "raw",
   "metadata": {},
   "source": [
    "if isinstance(history, list):\n",
    "    for k, k_history in enumerate(history):\n",
    "        plotting.plot_history(k_history, k=k, folder_path=training_output_dir)\n",
    "else:\n",
    "    plotting.plot_history(history, folder_path=training_output_dir)"
   ]
  },
  {
   "cell_type": "code",
   "execution_count": 19,
   "metadata": {},
   "outputs": [
    {
     "data": {
      "image/png": "[encoded data removed]",
      "text/plain": [
       "<Figure size 720x576 with 1 Axes>"
      ]
     },
     "metadata": {
      "needs_background": "light"
     },
     "output_type": "display_data"
    },
    {
     "data": {
      "image/png": "[encoded data removed]",
      "text/plain": [
       "<Figure size 720x576 with 1 Axes>"
      ]
     },
     "metadata": {
      "needs_background": "light"
     },
     "output_type": "display_data"
    }
   ],
   "source": [
    "plotting.plot_history(history, description=model_description)"
   ]
  },
  {
   "cell_type": "code",
   "execution_count": null,
   "metadata": {},
   "outputs": [],
   "source": []
  }
 ],
 "metadata": {
  "kernelspec": {
   "display_name": "Python 3",
   "language": "python",
   "name": "python3"
  },
  "language_info": {
   "codemirror_mode": {
    "name": "ipython",
    "version": 3
   },
   "file_extension": ".py",
   "mimetype": "text/x-python",
   "name": "python",
   "nbconvert_exporter": "python",
   "pygments_lexer": "ipython3",
   "version": "3.6.8"
  }
 },
 "nbformat": 4,
 "nbformat_minor": 2
}
